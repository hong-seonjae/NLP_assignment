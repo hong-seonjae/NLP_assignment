{
 "cells": [
  {
   "cell_type": "code",
   "execution_count": 1,
   "id": "f613053a-f6c6-4cb6-8abe-61aad4b3639b",
   "metadata": {
    "execution": {
     "iopub.execute_input": "2025-05-21T07:54:59.278919Z",
     "iopub.status.busy": "2025-05-21T07:54:59.278599Z",
     "iopub.status.idle": "2025-05-21T07:55:06.078187Z",
     "shell.execute_reply": "2025-05-21T07:55:06.077585Z",
     "shell.execute_reply.started": "2025-05-21T07:54:59.278879Z"
    },
    "scrolled": true
   },
   "outputs": [
    {
     "name": "stdout",
     "output_type": "stream",
     "text": [
      "Defaulting to user installation because normal site-packages is not writeable\n",
      "Looking in indexes: http://repo.ai.gato/registry/repository/pypi-proxy/simple\n",
      "Requirement already satisfied: transformers in /usr/gatoai/python/venv/3.10/lib/python3.10/site-packages (4.50.3)\n",
      "Requirement already satisfied: pandas in /usr/gatoai/python/venv/jupyter-4.4.0-py3.10/lib/python3.10/site-packages (2.2.3)\n",
      "Requirement already satisfied: scikit-learn in /usr/gatoai/python/venv/3.10/lib/python3.10/site-packages (1.6.1)\n",
      "Requirement already satisfied: torch in /usr/gatoai/python/venv/pytorch-2.6.0-cuda12.4-py3.10/lib/python3.10/site-packages (2.6.0+cu124)\n",
      "Requirement already satisfied: tqdm in /usr/gatoai/python/venv/jupyter-4.4.0-py3.10/lib/python3.10/site-packages (4.67.1)\n",
      "Requirement already satisfied: filelock in /usr/gatoai/python/venv/jupyter-4.4.0-py3.10/lib/python3.10/site-packages (from transformers) (3.18.0)\n",
      "Requirement already satisfied: huggingface-hub<1.0,>=0.26.0 in /usr/gatoai/python/venv/jupyter-4.4.0-py3.10/lib/python3.10/site-packages (from transformers) (0.30.2)\n",
      "Requirement already satisfied: numpy>=1.17 in /usr/gatoai/python/venv/3.10/lib/python3.10/site-packages (from transformers) (1.26.4)\n",
      "Requirement already satisfied: packaging>=20.0 in /usr/gatoai/python/venv/jupyter-4.4.0-py3.10/lib/python3.10/site-packages (from transformers) (25.0)\n",
      "Requirement already satisfied: pyyaml>=5.1 in /usr/gatoai/python/venv/pytorch-2.6.0-cuda12.4-py3.10/lib/python3.10/site-packages (from transformers) (6.0.2)\n",
      "Requirement already satisfied: regex!=2019.12.17 in /usr/gatoai/python/venv/jupyter-4.4.0-py3.10/lib/python3.10/site-packages (from transformers) (2024.11.6)\n",
      "Requirement already satisfied: requests in /usr/gatoai/python/venv/jupyter-4.4.0-py3.10/lib/python3.10/site-packages (from transformers) (2.32.3)\n",
      "Requirement already satisfied: tokenizers<0.22,>=0.21 in /usr/gatoai/python/venv/jupyter-4.4.0-py3.10/lib/python3.10/site-packages (from transformers) (0.21.1)\n",
      "Requirement already satisfied: safetensors>=0.4.3 in /usr/gatoai/python/venv/3.10/lib/python3.10/site-packages (from transformers) (0.5.3)\n",
      "Requirement already satisfied: fsspec>=2023.5.0 in /usr/gatoai/python/venv/jupyter-4.4.0-py3.10/lib/python3.10/site-packages (from huggingface-hub<1.0,>=0.26.0->transformers) (2025.3.2)\n",
      "Requirement already satisfied: typing-extensions>=3.7.4.3 in /usr/gatoai/python/venv/pytorch-2.6.0-cuda12.4-py3.10/lib/python3.10/site-packages (from huggingface-hub<1.0,>=0.26.0->transformers) (4.13.1)\n",
      "Requirement already satisfied: python-dateutil>=2.8.2 in /usr/gatoai/python/venv/pytorch-2.6.0-cuda12.4-py3.10/lib/python3.10/site-packages (from pandas) (2.9.0.post0)\n",
      "Requirement already satisfied: pytz>=2020.1 in /usr/gatoai/python/venv/jupyter-4.4.0-py3.10/lib/python3.10/site-packages (from pandas) (2025.2)\n",
      "Requirement already satisfied: tzdata>=2022.7 in /usr/gatoai/python/venv/jupyter-4.4.0-py3.10/lib/python3.10/site-packages (from pandas) (2025.2)\n",
      "Requirement already satisfied: scipy>=1.6.0 in /usr/gatoai/python/venv/3.10/lib/python3.10/site-packages (from scikit-learn) (1.12.0)\n",
      "Requirement already satisfied: joblib>=1.2.0 in /usr/gatoai/python/venv/jupyter-4.4.0-py3.10/lib/python3.10/site-packages (from scikit-learn) (1.4.2)\n",
      "Requirement already satisfied: threadpoolctl>=3.1.0 in /usr/gatoai/python/venv/pytorch-2.6.0-cuda12.4-py3.10/lib/python3.10/site-packages (from scikit-learn) (3.6.0)\n",
      "Requirement already satisfied: six>=1.5 in /usr/gatoai/python/venv/pytorch-2.6.0-cuda12.4-py3.10/lib/python3.10/site-packages (from python-dateutil>=2.8.2->pandas) (1.17.0)\n",
      "Requirement already satisfied: charset-normalizer<4,>=2 in /usr/gatoai/python/venv/jupyter-4.4.0-py3.10/lib/python3.10/site-packages (from requests->transformers) (3.4.1)\n",
      "Requirement already satisfied: idna<4,>=2.5 in /usr/gatoai/python/venv/jupyter-4.4.0-py3.10/lib/python3.10/site-packages (from requests->transformers) (3.10)\n",
      "Requirement already satisfied: urllib3<3,>=1.21.1 in /usr/gatoai/python/venv/pytorch-2.6.0-cuda12.4-py3.10/lib/python3.10/site-packages (from requests->transformers) (1.26.20)\n",
      "Requirement already satisfied: certifi>=2017.4.17 in /usr/gatoai/python/venv/jupyter-4.4.0-py3.10/lib/python3.10/site-packages (from requests->transformers) (2025.4.26)\n",
      "\n",
      "\u001b[1m[\u001b[0m\u001b[34;49mnotice\u001b[0m\u001b[1;39;49m]\u001b[0m\u001b[39;49m A new release of pip is available: \u001b[0m\u001b[31;49m25.1\u001b[0m\u001b[39;49m -> \u001b[0m\u001b[32;49m25.1.1\u001b[0m\n",
      "\u001b[1m[\u001b[0m\u001b[34;49mnotice\u001b[0m\u001b[1;39;49m]\u001b[0m\u001b[39;49m To update, run: \u001b[0m\u001b[32;49mpip install --upgrade pip\u001b[0m\n"
     ]
    }
   ],
   "source": [
    "# ⚙️ 라이브러리 설치 (처음 한 번만)\n",
    "!pip install transformers pandas scikit-learn torch tqdm"
   ]
  },
  {
   "cell_type": "code",
   "execution_count": 2,
   "id": "7deb2055-ab23-44dd-be2f-e4e3aaa8c7f4",
   "metadata": {
    "execution": {
     "iopub.execute_input": "2025-05-21T07:55:06.079010Z",
     "iopub.status.busy": "2025-05-21T07:55:06.078793Z",
     "iopub.status.idle": "2025-05-21T07:55:19.910016Z",
     "shell.execute_reply": "2025-05-21T07:55:19.908672Z",
     "shell.execute_reply.started": "2025-05-21T07:55:06.078988Z"
    }
   },
   "outputs": [],
   "source": [
    "import pandas as pd\n",
    "import torch\n",
    "from torch.utils.data import Dataset, DataLoader\n",
    "from sklearn.model_selection import train_test_split\n",
    "from transformers import BertTokenizer, BertForSequenceClassification\n",
    "from torch.optim import AdamW\n",
    "import torch.nn.functional as F\n",
    "from tqdm import tqdm\n",
    "from sklearn.metrics import classification_report\n",
    "import matplotlib.pyplot as plt"
   ]
  },
  {
   "cell_type": "code",
   "execution_count": null,
   "id": "2d6760d0-e472-46b4-adba-f67ab7186e4d",
   "metadata": {
    "execution": {
     "iopub.execute_input": "2025-05-21T07:55:19.912287Z",
     "iopub.status.busy": "2025-05-21T07:55:19.911709Z",
     "iopub.status.idle": "2025-05-21T07:55:31.750950Z",
     "shell.execute_reply": "2025-05-21T07:55:31.748680Z",
     "shell.execute_reply.started": "2025-05-21T07:55:19.912259Z"
    }
   },
   "outputs": [],
   "source": [
    "# ✅ 1. 데이터 불러오기 및 전처리\n",
    "df = pd.read_csv(\"train.csv\", encoding=\"ISO-8859-1\")[[\"text\", \"sentiment\"]]\n",
    "df = df[df[\"sentiment\"] != \"neutral\"]\n",
    "label_map = {\"negative\": 0, \"positive\": 1}\n",
    "df[\"label\"] = df[\"sentiment\"].map(label_map)\n",
    "\n",
    "train_texts, val_texts, train_labels, val_labels = train_test_split(\n",
    "    df[\"text\"], df[\"label\"], test_size=0.2, stratify=df[\"label\"], random_state=42\n",
    ")\n",
    "\n",
    "# ✅ 2. Tokenizer 및 Dataset\n",
    "tokenizer = BertTokenizer.from_pretrained(\"kykim/bert-kor-base\")\n",
    "\n",
    "class SentimentDataset(Dataset):\n",
    "    def __init__(self, texts, labels, tokenizer, max_len=128):\n",
    "        self.texts = texts\n",
    "        self.labels = labels\n",
    "        self.tokenizer = tokenizer\n",
    "        self.max_len = max_len\n",
    "\n",
    "    def __len__(self):\n",
    "        return len(self.texts)\n",
    "\n",
    "    def __getitem__(self, idx):\n",
    "        text = str(self.texts.iloc[idx])\n",
    "        label = int(self.labels.iloc[idx])\n",
    "        encoding = self.tokenizer(\n",
    "            text,\n",
    "            truncation=True,\n",
    "            padding=\"max_length\",\n",
    "            max_length=self.max_len,\n",
    "            return_tensors=\"pt\"\n",
    "        )\n",
    "        item = {key: val.squeeze(0) for key, val in encoding.items()}\n",
    "        item[\"labels\"] = torch.tensor(label, dtype=torch.long)\n",
    "        return item"
   ]
  },
  {
   "cell_type": "code",
   "execution_count": null,
   "id": "dc6403b5-217a-48d7-b6d7-5d7bc90a544e",
   "metadata": {
    "execution": {
     "iopub.execute_input": "2025-05-21T07:55:19.912287Z",
     "iopub.status.busy": "2025-05-21T07:55:19.911709Z",
     "iopub.status.idle": "2025-05-21T07:55:31.750950Z",
     "shell.execute_reply": "2025-05-21T07:55:31.748680Z",
     "shell.execute_reply.started": "2025-05-21T07:55:19.912259Z"
    }
   },
   "outputs": [],
   "source": [
    "# ✅ 3. DataLoader\n",
    "train_dataset = SentimentDataset(train_texts, train_labels, tokenizer)\n",
    "val_dataset = SentimentDataset(val_texts, val_labels, tokenizer)\n",
    "train_loader = DataLoader(train_dataset, batch_size=16, shuffle=True)\n",
    "val_loader = DataLoader(val_dataset, batch_size=16)\n",
    "\n",
    "# ✅ 4. 모델 및 옵티마이저\n",
    "from transformers import BertModel\n",
    "import torch.nn as nn\n",
    "\n",
    "class CustomBertClassifier(nn.Module):\n",
    "    def __init__(self, dropout_rate=0.3, hidden_size=768, num_labels=2):\n",
    "        super(CustomBertClassifier, self).__init__()\n",
    "        self.bert = BertModel.from_pretrained(\"kykim/bert-kor-base\")\n",
    "        self.classifier = nn.Sequential(\n",
    "            nn.Linear(hidden_size, hidden_size),\n",
    "            nn.ReLU(),\n",
    "            nn.Dropout(dropout_rate),\n",
    "            nn.Linear(hidden_size, num_labels)\n",
    "        )\n",
    "\n",
    "    def forward(self, input_ids, attention_mask=None, token_type_ids=None, labels=None):\n",
    "        outputs = self.bert(input_ids=input_ids, attention_mask=attention_mask, token_type_ids=token_type_ids)\n",
    "        pooled_output = outputs.pooler_output  # [CLS] 토큰에 해당하는 출력\n",
    "        logits = self.classifier(pooled_output)\n",
    "        loss = None\n",
    "        if labels is not None:\n",
    "            loss = F.cross_entropy(logits, labels.to(logits.device))\n",
    "        return type('Output', (), {'loss': loss, 'logits': logits})()  # BERT의 outputs처럼 객체화\n",
    "\n",
    "model = CustomBertClassifier()\n",
    "model.to(device)\n",
    "optimizer = AdamW(model.parameters(), lr=2e-6)"
   ]
  },
  {
   "cell_type": "code",
   "execution_count": 4,
   "id": "f9eebe00-b6ce-4a9a-981b-1b09f73a346e",
   "metadata": {
    "execution": {
     "iopub.execute_input": "2025-05-21T07:55:31.753236Z",
     "iopub.status.busy": "2025-05-21T07:55:31.752931Z",
     "iopub.status.idle": "2025-05-21T07:55:31.762124Z",
     "shell.execute_reply": "2025-05-21T07:55:31.760882Z",
     "shell.execute_reply.started": "2025-05-21T07:55:31.753211Z"
    }
   },
   "outputs": [],
   "source": [
    "# ✅ 5. 학습/평가 함수\n",
    "def train(model, data_loader, optimizer):\n",
    "    model.train()\n",
    "    total_loss = 0\n",
    "    for batch in tqdm(data_loader):\n",
    "        batch = {k: v.to(device) for k, v in batch.items()}\n",
    "        outputs = model(**batch)\n",
    "        loss = outputs.loss\n",
    "        loss.backward()\n",
    "        optimizer.step()\n",
    "        optimizer.zero_grad()\n",
    "        total_loss += loss.item()\n",
    "    return total_loss / len(data_loader)\n",
    "\n",
    "def evaluate(model, data_loader):\n",
    "    model.eval()\n",
    "    all_preds = []\n",
    "    all_labels = []\n",
    "    with torch.no_grad():\n",
    "        for batch in data_loader:\n",
    "            batch = {k: v.to(device) for k, v in batch.items()}\n",
    "            outputs = model(**batch)\n",
    "            preds = outputs.logits.argmax(dim=-1)\n",
    "            all_preds.extend(preds.cpu().numpy())\n",
    "            all_labels.extend(batch[\"labels\"].cpu().numpy())\n",
    "    print(classification_report(all_labels, all_preds, target_names=[\"부정\", \"긍정\"]))\n",
    "    acc = sum(p == l for p, l in zip(all_preds, all_labels)) / len(all_labels)\n",
    "    return acc"
   ]
  },
  {
   "cell_type": "code",
   "execution_count": 5,
   "id": "f8142458-fe6c-45f0-b035-95123c3df9b0",
   "metadata": {
    "execution": {
     "iopub.execute_input": "2025-05-21T07:55:31.763448Z",
     "iopub.status.busy": "2025-05-21T07:55:31.763169Z",
     "iopub.status.idle": "2025-05-21T08:12:20.505649Z",
     "shell.execute_reply": "2025-05-21T08:12:20.504722Z",
     "shell.execute_reply.started": "2025-05-21T07:55:31.763427Z"
    }
   },
   "outputs": [
    {
     "name": "stderr",
     "output_type": "stream",
     "text": [
      "100%|██████████| 819/819 [01:32<00:00,  8.85it/s]\n"
     ]
    },
    {
     "name": "stdout",
     "output_type": "stream",
     "text": [
      "              precision    recall  f1-score   support\n",
      "\n",
      "          부정       0.79      0.89      0.84      1556\n",
      "          긍정       0.89      0.78      0.83      1717\n",
      "\n",
      "    accuracy                           0.84      3273\n",
      "   macro avg       0.84      0.84      0.83      3273\n",
      "weighted avg       0.84      0.84      0.83      3273\n",
      "\n",
      "Epoch 1 | Loss: 0.5616 | Val Acc: 0.8350\n"
     ]
    },
    {
     "name": "stderr",
     "output_type": "stream",
     "text": [
      "100%|██████████| 819/819 [01:33<00:00,  8.79it/s]\n"
     ]
    },
    {
     "name": "stdout",
     "output_type": "stream",
     "text": [
      "              precision    recall  f1-score   support\n",
      "\n",
      "          부정       0.84      0.89      0.86      1556\n",
      "          긍정       0.90      0.85      0.87      1717\n",
      "\n",
      "    accuracy                           0.87      3273\n",
      "   macro avg       0.87      0.87      0.87      3273\n",
      "weighted avg       0.87      0.87      0.87      3273\n",
      "\n",
      "Epoch 2 | Loss: 0.3873 | Val Acc: 0.8674\n"
     ]
    },
    {
     "name": "stderr",
     "output_type": "stream",
     "text": [
      "100%|██████████| 819/819 [01:33<00:00,  8.77it/s]\n"
     ]
    },
    {
     "name": "stdout",
     "output_type": "stream",
     "text": [
      "              precision    recall  f1-score   support\n",
      "\n",
      "          부정       0.87      0.89      0.88      1556\n",
      "          긍정       0.89      0.87      0.88      1717\n",
      "\n",
      "    accuracy                           0.88      3273\n",
      "   macro avg       0.88      0.88      0.88      3273\n",
      "weighted avg       0.88      0.88      0.88      3273\n",
      "\n",
      "Epoch 3 | Loss: 0.3335 | Val Acc: 0.8802\n"
     ]
    },
    {
     "name": "stderr",
     "output_type": "stream",
     "text": [
      "100%|██████████| 819/819 [01:33<00:00,  8.77it/s]\n"
     ]
    },
    {
     "name": "stdout",
     "output_type": "stream",
     "text": [
      "              precision    recall  f1-score   support\n",
      "\n",
      "          부정       0.89      0.87      0.88      1556\n",
      "          긍정       0.88      0.90      0.89      1717\n",
      "\n",
      "    accuracy                           0.89      3273\n",
      "   macro avg       0.89      0.88      0.88      3273\n",
      "weighted avg       0.89      0.89      0.89      3273\n",
      "\n",
      "Epoch 4 | Loss: 0.3028 | Val Acc: 0.8854\n"
     ]
    },
    {
     "name": "stderr",
     "output_type": "stream",
     "text": [
      "100%|██████████| 819/819 [01:33<00:00,  8.77it/s]\n"
     ]
    },
    {
     "name": "stdout",
     "output_type": "stream",
     "text": [
      "              precision    recall  f1-score   support\n",
      "\n",
      "          부정       0.88      0.88      0.88      1556\n",
      "          긍정       0.89      0.90      0.89      1717\n",
      "\n",
      "    accuracy                           0.89      3273\n",
      "   macro avg       0.89      0.89      0.89      3273\n",
      "weighted avg       0.89      0.89      0.89      3273\n",
      "\n",
      "Epoch 5 | Loss: 0.2722 | Val Acc: 0.8894\n"
     ]
    },
    {
     "name": "stderr",
     "output_type": "stream",
     "text": [
      "100%|██████████| 819/819 [01:32<00:00,  8.83it/s]\n"
     ]
    },
    {
     "name": "stdout",
     "output_type": "stream",
     "text": [
      "              precision    recall  f1-score   support\n",
      "\n",
      "          부정       0.86      0.92      0.89      1556\n",
      "          긍정       0.93      0.86      0.89      1717\n",
      "\n",
      "    accuracy                           0.89      3273\n",
      "   macro avg       0.89      0.89      0.89      3273\n",
      "weighted avg       0.89      0.89      0.89      3273\n",
      "\n",
      "Epoch 6 | Loss: 0.2449 | Val Acc: 0.8921\n"
     ]
    },
    {
     "name": "stderr",
     "output_type": "stream",
     "text": [
      "100%|██████████| 819/819 [01:32<00:00,  8.82it/s]\n"
     ]
    },
    {
     "name": "stdout",
     "output_type": "stream",
     "text": [
      "              precision    recall  f1-score   support\n",
      "\n",
      "          부정       0.89      0.88      0.88      1556\n",
      "          긍정       0.89      0.90      0.90      1717\n",
      "\n",
      "    accuracy                           0.89      3273\n",
      "   macro avg       0.89      0.89      0.89      3273\n",
      "weighted avg       0.89      0.89      0.89      3273\n",
      "\n",
      "Epoch 7 | Loss: 0.2280 | Val Acc: 0.8897\n"
     ]
    },
    {
     "name": "stderr",
     "output_type": "stream",
     "text": [
      "100%|██████████| 819/819 [01:32<00:00,  8.83it/s]\n"
     ]
    },
    {
     "name": "stdout",
     "output_type": "stream",
     "text": [
      "              precision    recall  f1-score   support\n",
      "\n",
      "          부정       0.86      0.92      0.89      1556\n",
      "          긍정       0.92      0.87      0.89      1717\n",
      "\n",
      "    accuracy                           0.89      3273\n",
      "   macro avg       0.89      0.89      0.89      3273\n",
      "weighted avg       0.89      0.89      0.89      3273\n",
      "\n",
      "Epoch 8 | Loss: 0.2081 | Val Acc: 0.8921\n"
     ]
    },
    {
     "name": "stderr",
     "output_type": "stream",
     "text": [
      "100%|██████████| 819/819 [01:33<00:00,  8.76it/s]\n"
     ]
    },
    {
     "name": "stdout",
     "output_type": "stream",
     "text": [
      "              precision    recall  f1-score   support\n",
      "\n",
      "          부정       0.89      0.91      0.90      1556\n",
      "          긍정       0.92      0.90      0.91      1717\n",
      "\n",
      "    accuracy                           0.90      3273\n",
      "   macro avg       0.90      0.90      0.90      3273\n",
      "weighted avg       0.90      0.90      0.90      3273\n",
      "\n",
      "Epoch 9 | Loss: 0.1935 | Val Acc: 0.9028\n"
     ]
    },
    {
     "name": "stderr",
     "output_type": "stream",
     "text": [
      "100%|██████████| 819/819 [01:32<00:00,  8.81it/s]\n"
     ]
    },
    {
     "name": "stdout",
     "output_type": "stream",
     "text": [
      "              precision    recall  f1-score   support\n",
      "\n",
      "          부정       0.86      0.93      0.89      1556\n",
      "          긍정       0.94      0.86      0.89      1717\n",
      "\n",
      "    accuracy                           0.89      3273\n",
      "   macro avg       0.90      0.90      0.89      3273\n",
      "weighted avg       0.90      0.89      0.89      3273\n",
      "\n",
      "Epoch 10 | Loss: 0.1806 | Val Acc: 0.8937\n"
     ]
    }
   ],
   "source": [
    "# ✅ 6. 학습 실행\n",
    "num_epochs = 10\n",
    "train_losses, val_accuracies = [], []\n",
    "\n",
    "for epoch in range(num_epochs):\n",
    "    loss = train(model, train_loader, optimizer)\n",
    "    acc = evaluate(model, val_loader)\n",
    "    train_losses.append(loss)\n",
    "    val_accuracies.append(acc)\n",
    "    print(f\"Epoch {epoch+1} | Loss: {loss:.4f} | Val Acc: {acc:.4f}\")"
   ]
  },
  {
   "cell_type": "code",
   "execution_count": 6,
   "id": "30b1eb37-4997-4806-b825-13a6f1aeb873",
   "metadata": {
    "execution": {
     "iopub.execute_input": "2025-05-21T08:12:20.508011Z",
     "iopub.status.busy": "2025-05-21T08:12:20.507689Z",
     "iopub.status.idle": "2025-05-21T08:12:20.852964Z",
     "shell.execute_reply": "2025-05-21T08:12:20.852115Z",
     "shell.execute_reply.started": "2025-05-21T08:12:20.507986Z"
    }
   },
   "outputs": [
    {
     "data": {
      "image/png": "[encoded data removed]",
      "text/plain": [
       "<Figure size 1200x500 with 2 Axes>"
      ]
     },
     "metadata": {},
     "output_type": "display_data"
    }
   ],
   "source": [
    "# ✅ 7. 학습 시각화\n",
    "plt.figure(figsize=(12,5))\n",
    "plt.subplot(1, 2, 1)\n",
    "plt.plot(train_losses, marker='o')\n",
    "plt.title(\"Training Loss\")\n",
    "plt.xlabel(\"Epoch\")\n",
    "plt.ylabel(\"Loss\")\n",
    "\n",
    "plt.subplot(1, 2, 2)\n",
    "plt.plot(val_accuracies, marker='o')\n",
    "plt.title(\"Validation Accuracy\")\n",
    "plt.xlabel(\"Epoch\")\n",
    "plt.ylabel(\"Accuracy\")\n",
    "\n",
    "plt.tight_layout()\n",
    "plt.show()"
   ]
  },
  {
   "cell_type": "code",
   "execution_count": 7,
   "id": "b58f8048-9d0c-4178-b6c5-9fbd2510b26c",
   "metadata": {
    "execution": {
     "iopub.execute_input": "2025-05-21T08:12:20.854162Z",
     "iopub.status.busy": "2025-05-21T08:12:20.853828Z",
     "iopub.status.idle": "2025-05-21T08:12:22.524823Z",
     "shell.execute_reply": "2025-05-21T08:12:22.523770Z",
     "shell.execute_reply.started": "2025-05-21T08:12:20.854138Z"
    }
   },
   "outputs": [
    {
     "name": "stdout",
     "output_type": "stream",
     "text": [
      "✅ 모델이 저장되었습니다: sentiment_model.pt\n"
     ]
    }
   ],
   "source": [
    "# ✅ 8. 모델 저장\n",
    "model_path = \"sentiment_model.pt\"\n",
    "torch.save(model.state_dict(), model_path)\n",
    "print(f\"✅ 모델이 저장되었습니다: {model_path}\")"
   ]
  },
  {
   "cell_type": "code",
   "execution_count": 8,
   "id": "d04f9b9c-b5a5-4855-8a93-bd6a7e48a07a",
   "metadata": {
    "execution": {
     "iopub.execute_input": "2025-05-21T08:12:22.525983Z",
     "iopub.status.busy": "2025-05-21T08:12:22.525751Z",
     "iopub.status.idle": "2025-05-21T08:12:22.530525Z",
     "shell.execute_reply": "2025-05-21T08:12:22.529637Z",
     "shell.execute_reply.started": "2025-05-21T08:12:22.525961Z"
    }
   },
   "outputs": [],
   "source": [
    "# ✅ 9. 모델 불러오기 함수 (이걸 먼저!)\n",
    "def load_model(model_path, num_labels=2):\n",
    "    model = BertForSequenceClassification.from_pretrained(\"kykim/bert-kor-base\", num_labels=num_labels)\n",
    "    model.load_state_dict(torch.load(model_path, map_location=device))\n",
    "    model.to(device)\n",
    "    model.eval()\n",
    "    return model"
   ]
  },
  {
   "cell_type": "code",
   "execution_count": 9,
   "id": "7a719686-b527-42a7-8194-112bfa13b8fb",
   "metadata": {
    "execution": {
     "iopub.execute_input": "2025-05-21T08:12:22.532222Z",
     "iopub.status.busy": "2025-05-21T08:12:22.531945Z",
     "iopub.status.idle": "2025-05-21T08:12:22.536540Z",
     "shell.execute_reply": "2025-05-21T08:12:22.535979Z",
     "shell.execute_reply.started": "2025-05-21T08:12:22.532200Z"
    }
   },
   "outputs": [],
   "source": [
    "# ✅ 10. 감정 분류 함수\n",
    "def classify_emotion(model, text):\n",
    "    tokens = tokenizer(text, return_tensors=\"pt\", truncation=True, padding=True, max_length=128).to(device)\n",
    "    with torch.no_grad():\n",
    "        logits = model(**tokens).logits\n",
    "    probs = F.softmax(logits, dim=1)\n",
    "    pred = torch.argmax(probs, dim=1).item()\n",
    "    labels = [\"부정\", \"긍정\"]\n",
    "    print(f\"문장: {text}\")\n",
    "    print(f\"예측: {labels[pred]} (확률: {probs[0][pred]:.4f})\")"
   ]
  },
  {
   "cell_type": "code",
   "execution_count": 10,
   "id": "6b6fea96-086b-4fa9-a151-7cf7701df1dd",
   "metadata": {
    "execution": {
     "iopub.execute_input": "2025-05-21T08:12:22.537287Z",
     "iopub.status.busy": "2025-05-21T08:12:22.537093Z",
     "iopub.status.idle": "2025-05-21T08:12:29.616550Z",
     "shell.execute_reply": "2025-05-21T08:12:29.615922Z",
     "shell.execute_reply.started": "2025-05-21T08:12:22.537268Z"
    }
   },
   "outputs": [
    {
     "name": "stderr",
     "output_type": "stream",
     "text": [
      "Some weights of BertForSequenceClassification were not initialized from the model checkpoint at kykim/bert-kor-base and are newly initialized: ['classifier.bias', 'classifier.weight']\n",
      "You should probably TRAIN this model on a down-stream task to be able to use it for predictions and inference.\n"
     ]
    },
    {
     "name": "stdout",
     "output_type": "stream",
     "text": [
      "문장: 이 영화는 정말 감동적이었어요.\n",
      "예측: 긍정 (확률: 0.8181)\n",
      "문장: 오늘 너무 피곤하고 짜증나.\n",
      "예측: 부정 (확률: 0.8504)\n",
      "문장: 이거 다 장난이야, 별걸 다 해요.\n",
      "예측: 부정 (확률: 0.6188)\n"
     ]
    }
   ],
   "source": [
    "# ✅ 11. 저장된 모델 불러와서 테스트\n",
    "loaded_model = load_model(model_path)\n",
    "classify_emotion(loaded_model, \"이 영화는 정말 감동적이었어요.\")\n",
    "classify_emotion(loaded_model, \"오늘 너무 피곤하고 짜증나.\")\n",
    "classify_emotion(loaded_model, \"이거 다 장난이야, 별걸 다 해요.\")"
   ]
  }
 ],
 "metadata": {
  "kernelspec": {
   "display_name": "PyTorch 2.6.0 (py3.10)",
   "language": "python",
   "name": "pytorch-2.6.0-cuda12.4-py3.10"
  },
  "language_info": {
   "codemirror_mode": {
    "name": "ipython",
    "version": 3
   },
   "file_extension": ".py",
   "mimetype": "text/x-python",
   "name": "python",
   "nbconvert_exporter": "python",
   "pygments_lexer": "ipython3",
   "version": "3.10.12"
  }
 },
 "nbformat": 4,
 "nbformat_minor": 5
}
